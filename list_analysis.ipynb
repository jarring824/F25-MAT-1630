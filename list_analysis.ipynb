{
  "nbformat": 4,
  "nbformat_minor": 0,
  "metadata": {
    "colab": {
      "provenance": [],
      "authorship_tag": "ABX9TyMhS8RcQLFTB2/OWCqiX8KB",
      "include_colab_link": true
    },
    "kernelspec": {
      "name": "python3",
      "display_name": "Python 3"
    },
    "language_info": {
      "name": "python"
    }
  },
  "cells": [
    {
      "cell_type": "markdown",
      "metadata": {
        "id": "view-in-github",
        "colab_type": "text"
      },
      "source": [
        "<a href=\"https://colab.research.google.com/github/jarring824/F25-MAT-1630/blob/main/list_analysis.ipynb\" target=\"_parent\"><img src=\"https://colab.research.google.com/assets/colab-badge.svg\" alt=\"Open In Colab\"/></a>"
      ]
    },
    {
      "cell_type": "code",
      "execution_count": 2,
      "metadata": {
        "colab": {
          "base_uri": "https://localhost:8080/"
        },
        "id": "kw6TWlZqYYa1",
        "outputId": "19531156-d595-4982-c01b-fa4d323246f7"
      },
      "outputs": [
        {
          "output_type": "stream",
          "name": "stdout",
          "text": [
            "5 is odd.\n",
            "4 is even.\n",
            "25 is odd.\n",
            "3 is odd.\n",
            "50 is even.\n",
            "63 is odd.\n",
            "7 is odd.\n",
            "1 is odd.\n",
            "\n",
            "There are 2 even numbers and 6 odd numbers.\n",
            "Even numbers list: [4, 50]\n"
          ]
        }
      ],
      "source": [
        "data = [5, 4, 25, 3, 50, 63, 7, 1]\n",
        "\n",
        "even_count = 0\n",
        "odd_count = 0\n",
        "\n",
        "for number in data:\n",
        "    if number % 2 == 0:\n",
        "        print(f\"{number} is even.\")\n",
        "        even_count += 1\n",
        "    else:\n",
        "        print(f\"{number} is odd.\")\n",
        "        odd_count += 1\n",
        "\n",
        "print(f\"\\nThere are {even_count} even numbers and {odd_count} odd numbers.\")\n",
        "\n",
        "even_numbers = [num for num in data if num % 2 == 0]\n",
        "print(f\"Even numbers list: {even_numbers}\")"
      ]
    }
  ]
}